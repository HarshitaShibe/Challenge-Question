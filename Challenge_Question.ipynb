{
  "nbformat": 4,
  "nbformat_minor": 0,
  "metadata": {
    "colab": {
      "provenance": [],
      "authorship_tag": "ABX9TyOANo3/Gy4ideRDjduZ+Yij",
      "include_colab_link": true
    },
    "kernelspec": {
      "name": "python3",
      "display_name": "Python 3"
    },
    "language_info": {
      "name": "python"
    }
  },
  "cells": [
    {
      "cell_type": "markdown",
      "metadata": {
        "id": "view-in-github",
        "colab_type": "text"
      },
      "source": [
        "<a href=\"https://colab.research.google.com/github/HarshitaShibe/Challenge-Question/blob/main/Challenge_Question.ipynb\" target=\"_parent\"><img src=\"https://colab.research.google.com/assets/colab-badge.svg\" alt=\"Open In Colab\"/></a>"
      ]
    },
    {
      "cell_type": "markdown",
      "source": [
        "# **Challenge Question**\n",
        "\n"
      ],
      "metadata": {
        "id": "XNmpCyIMLd76"
      }
    },
    {
      "cell_type": "markdown",
      "source": [
        "Write a python program to sort the list of heterogeneous data.\n",
        "eg.\n",
        "\n",
        "\n",
        "\n",
        "\n",
        "\n"
      ],
      "metadata": {
        "id": "R7noOLFUM7Bw"
      }
    },
    {
      "cell_type": "code",
      "source": [
        "L = [\"Ram\", 1 , \"Shyam\" , 2 , \"Aman\" , 3]\n",
        "print(L)\n",
        "L.sort()\n",
        "print(L)"
      ],
      "metadata": {
        "colab": {
          "base_uri": "https://localhost:8080/",
          "height": 211
        },
        "id": "KXe8wu_oN-UJ",
        "outputId": "34beb4a6-6728-4ed6-c34a-77b9138580d0"
      },
      "execution_count": 2,
      "outputs": [
        {
          "output_type": "stream",
          "name": "stdout",
          "text": [
            "['Ram', 1, 'Shyam', 2, 'Aman', 3]\n"
          ]
        },
        {
          "output_type": "error",
          "ename": "TypeError",
          "evalue": "'<' not supported between instances of 'int' and 'str'",
          "traceback": [
            "\u001b[0;31m---------------------------------------------------------------------------\u001b[0m",
            "\u001b[0;31mTypeError\u001b[0m                                 Traceback (most recent call last)",
            "\u001b[0;32m<ipython-input-2-2607927342>\u001b[0m in \u001b[0;36m<cell line: 0>\u001b[0;34m()\u001b[0m\n\u001b[1;32m      1\u001b[0m \u001b[0mL\u001b[0m \u001b[0;34m=\u001b[0m \u001b[0;34m[\u001b[0m\u001b[0;34m\"Ram\"\u001b[0m\u001b[0;34m,\u001b[0m \u001b[0;36m1\u001b[0m \u001b[0;34m,\u001b[0m \u001b[0;34m\"Shyam\"\u001b[0m \u001b[0;34m,\u001b[0m \u001b[0;36m2\u001b[0m \u001b[0;34m,\u001b[0m \u001b[0;34m\"Aman\"\u001b[0m \u001b[0;34m,\u001b[0m \u001b[0;36m3\u001b[0m\u001b[0;34m]\u001b[0m\u001b[0;34m\u001b[0m\u001b[0;34m\u001b[0m\u001b[0m\n\u001b[1;32m      2\u001b[0m \u001b[0mprint\u001b[0m\u001b[0;34m(\u001b[0m\u001b[0mL\u001b[0m\u001b[0;34m)\u001b[0m\u001b[0;34m\u001b[0m\u001b[0;34m\u001b[0m\u001b[0m\n\u001b[0;32m----> 3\u001b[0;31m \u001b[0mL\u001b[0m\u001b[0;34m.\u001b[0m\u001b[0msort\u001b[0m\u001b[0;34m(\u001b[0m\u001b[0;34m)\u001b[0m\u001b[0;34m\u001b[0m\u001b[0;34m\u001b[0m\u001b[0m\n\u001b[0m\u001b[1;32m      4\u001b[0m \u001b[0mprint\u001b[0m\u001b[0;34m(\u001b[0m\u001b[0mL\u001b[0m\u001b[0;34m)\u001b[0m\u001b[0;34m\u001b[0m\u001b[0;34m\u001b[0m\u001b[0m\n",
            "\u001b[0;31mTypeError\u001b[0m: '<' not supported between instances of 'int' and 'str'"
          ]
        }
      ]
    },
    {
      "cell_type": "markdown",
      "source": [
        "Above code gives error. Rectify it!\n"
      ],
      "metadata": {
        "id": "Et19jQNCN-1l"
      }
    },
    {
      "cell_type": "code",
      "source": [
        "# Method One : To make sure all the elements are of same datatype - for example, all strings i.e, we will consider the integers as characters.\n",
        "# As a result, sorting occurs on the basis of ASCII values of characters.\n",
        "\n",
        "L = [\"Ram\", '1' , \"Shyam\" , '2' , \"Aman\" , '3']\n",
        "print(\"List before Sorting --->\",L)\n",
        "L.sort()\n",
        "print(\"List After Sorting --->\",L)"
      ],
      "metadata": {
        "colab": {
          "base_uri": "https://localhost:8080/"
        },
        "outputId": "d350a064-8101-416c-c2de-4e66c1637dfa",
        "id": "T2T4D9pRQQG4"
      },
      "execution_count": 16,
      "outputs": [
        {
          "output_type": "stream",
          "name": "stdout",
          "text": [
            "List before Sorting ---> ['Ram', '1', 'Shyam', '2', 'Aman', '3']\n",
            "List After Sorting ---> ['1', '2', '3', 'Aman', 'Ram', 'Shyam']\n"
          ]
        }
      ]
    },
    {
      "cell_type": "code",
      "source": [
        "# Method Two\n",
        "L = [\"Ram\", 1 , \"Shyam\" , 2 , \"Aman\" , 3]\n",
        "L1 = []\n",
        "L2 = []\n",
        "for i in L:\n",
        "\n",
        "  try :\n",
        "    L1.append(int(i)) # integers get to store in L1\n",
        "  except :\n",
        "    L2.append(str(i)) # and strings in L2\n",
        "\n",
        "L1.sort() # sorting of integers\n",
        "L2.sort() # sorting of strings\n",
        "L = L1 + L2\n",
        "print(\"List After Sorting : \",L)\n",
        ""
      ],
      "metadata": {
        "colab": {
          "base_uri": "https://localhost:8080/"
        },
        "id": "NXWs0fhNQ6L-",
        "outputId": "04227e44-0f29-48c0-cd97-54d353d2bd32"
      },
      "execution_count": 17,
      "outputs": [
        {
          "output_type": "stream",
          "name": "stdout",
          "text": [
            "List After Sorting :  [1, 2, 3, 'Aman', 'Ram', 'Shyam']\n"
          ]
        }
      ]
    }
  ]
}